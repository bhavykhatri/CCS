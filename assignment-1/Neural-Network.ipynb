{
 "cells": [
  {
   "cell_type": "markdown",
   "metadata": {},
   "source": [
    "Reference: https://web.cse.iitk.ac.in/users/piyush/courses/ml-autumn18/771_A18_lec21_print.pdf"
   ]
  },
  {
   "cell_type": "code",
   "execution_count": 1,
   "metadata": {},
   "outputs": [],
   "source": [
    "import numpy as np"
   ]
  },
  {
   "cell_type": "code",
   "execution_count": 4,
   "metadata": {},
   "outputs": [],
   "source": [
    "#In this assignment I have to learn f(a, b, c) where a,b,c are boolean variables.\n",
    "#Let's first try with f(abc) = abc i.e. boolean table will be as follows\n",
    "\n",
    "#a b c | f\n",
    "#0 0 0 | 0\n",
    "#: : : | 0\n",
    "#1 1 1 | 1\n"
   ]
  },
  {
   "cell_type": "code",
   "execution_count": 12,
   "metadata": {},
   "outputs": [],
   "source": [
    "def sigmoid(x):\n",
    "    return 1.0/(1+np.exp(-x))"
   ]
  },
  {
   "cell_type": "code",
   "execution_count": 35,
   "metadata": {},
   "outputs": [],
   "source": [
    "def h_compute(W, xn):\n",
    "    return sigmoid(np.dot(np.transpose(W), xn))"
   ]
  },
  {
   "cell_type": "code",
   "execution_count": 37,
   "metadata": {},
   "outputs": [],
   "source": [
    "def output_compute(U, hn):\n",
    "    return sigmoid(np.dot(np.transpose(U), hn))"
   ]
  },
  {
   "cell_type": "code",
   "execution_count": 71,
   "metadata": {},
   "outputs": [],
   "source": [
    "x_train = np.array([[0, 0, 0], [1, 0, 0], [0, 1, 0], [0, 0, 1], [1, 1, 0], [0, 1, 1], [1, 0, 1],[1, 1, 1]])\n",
    "\n",
    "Y_train = np.array([[0, 1, 1, 1, 0, 0, 0, 1], [0, 0, 0, 1, 0, 0, 0, 1],\n",
    "                   [1, 0, 1, 0, 1, 0, 1, 0], [0, 0, 1, 0, 0, 0, 0, 0], [1, 1, 1, 1, 0, 0, 0, 0]])\n",
    "y_pred = np.zeros((8, 1))"
   ]
  },
  {
   "cell_type": "code",
   "execution_count": 76,
   "metadata": {},
   "outputs": [],
   "source": [
    "K = 4\n",
    "N = 8\n",
    "D = 3\n",
    "EPOCHS = 10000\n",
    "neta = 0.1"
   ]
  },
  {
   "cell_type": "code",
   "execution_count": 16,
   "metadata": {},
   "outputs": [],
   "source": [
    "#Neural net architecture\n",
    "#Input layer: 3 hidden nodes\n",
    "#Hidden Layer: 1 hidden layer with 4 nodes\n",
    "#Output Layer: 1 output node\n",
    "#Activation function: Sigmoid\n",
    "\n",
    "#At this step not considering bias term but you can include it in later stage\n",
    "#W is the weight Matrix of first layer\n",
    "#U is the weight vector of second layer"
   ]
  },
  {
   "cell_type": "code",
   "execution_count": 78,
   "metadata": {},
   "outputs": [
    {
     "name": "stdout",
     "output_type": "stream",
     "text": [
      "For boolean function of \n",
      "[[0]\n",
      " [1]\n",
      " [1]\n",
      " [1]\n",
      " [0]\n",
      " [0]\n",
      " [0]\n",
      " [1]]\n",
      "The learnt values are\n",
      "[[0.14238487]\n",
      " [0.93359429]\n",
      " [0.91335027]\n",
      " [0.91869531]\n",
      " [0.02269067]\n",
      " [0.02816727]\n",
      " [0.01213008]\n",
      " [0.99969081]]\n",
      "For boolean function of \n",
      "[[0]\n",
      " [0]\n",
      " [0]\n",
      " [1]\n",
      " [0]\n",
      " [0]\n",
      " [0]\n",
      " [1]]\n",
      "The learnt values are\n",
      "[[0.0080583 ]\n",
      " [0.00320977]\n",
      " [0.01381601]\n",
      " [0.96607716]\n",
      " [0.00881657]\n",
      " [0.03534484]\n",
      " [0.02899045]\n",
      " [0.96207783]]\n",
      "For boolean function of \n",
      "[[1]\n",
      " [0]\n",
      " [1]\n",
      " [0]\n",
      " [1]\n",
      " [0]\n",
      " [1]\n",
      " [0]]\n",
      "The learnt values are\n",
      "[[0.9872299 ]\n",
      " [0.27842075]\n",
      " [0.99958901]\n",
      " [0.28260905]\n",
      " [0.95473622]\n",
      " [0.02573127]\n",
      " [0.57190286]\n",
      " [0.01278858]]\n",
      "For boolean function of \n",
      "[[0]\n",
      " [0]\n",
      " [1]\n",
      " [0]\n",
      " [0]\n",
      " [0]\n",
      " [0]\n",
      " [0]]\n",
      "The learnt values are\n",
      "[[3.57652727e-02]\n",
      " [1.73179009e-04]\n",
      " [9.56755025e-01]\n",
      " [1.18008703e-04]\n",
      " [1.73497644e-02]\n",
      " [1.55019437e-02]\n",
      " [5.22451927e-05]\n",
      " [5.88501549e-04]]\n",
      "For boolean function of \n",
      "[[1]\n",
      " [1]\n",
      " [1]\n",
      " [1]\n",
      " [0]\n",
      " [0]\n",
      " [0]\n",
      " [0]]\n",
      "The learnt values are\n",
      "[[0.99985968]\n",
      " [0.92587199]\n",
      " [0.92510432]\n",
      " [0.92209644]\n",
      " [0.06543696]\n",
      " [0.07388401]\n",
      " [0.0722024 ]\n",
      " [0.00209461]]\n"
     ]
    }
   ],
   "source": [
    "for y in Y_train:\n",
    "    y_train = y.reshape(N, 1)\n",
    "    W = np.random.randn(D, K)\n",
    "    U = np.random.randn(K, 1)\n",
    "    H = np.zeros((N, K))\n",
    "    ERROR = np.zeros((N, 1))\n",
    "    y_pred = np.zeros((8, 1))\n",
    "    for i in range(EPOCHS):\n",
    "        for j in range(N):\n",
    "            H[j, :] = h_compute(W, x_train[j])\n",
    "            y_pred[j] = output_compute(U, H[j, :])\n",
    "            ERROR[j] = y_train[j] - y_pred[j]\n",
    "        #U update weights\n",
    "        for k in range(K):\n",
    "            gradk = 0\n",
    "            for n in range(N):\n",
    "                gradk  += -ERROR[n]*H[n, k]*y_pred[n]*(1-y_pred[n])\n",
    "            U[k] = U[k] - neta*gradk\n",
    "        #W weight updates\n",
    "        for d in range(D):\n",
    "            for k in range(K):\n",
    "                grad_w_dk = 0\n",
    "                for n in range(N):\n",
    "                    l1 = -ERROR[n]*U[k]*y_pred[n]*(1-y_pred[n])\n",
    "                    l2 = x_train[n, d]*H[n, k]*(1-H[n ,k])\n",
    "                    grad_w_dk += l1*l2   \n",
    "                W[d, k] = W[d, k] - neta*grad_w_dk\n",
    "    ###\n",
    "    print(\"For boolean function of \")\n",
    "    print (y_train)\n",
    "    print (\"The learnt values are\")\n",
    "    print (y_pred)"
   ]
  },
  {
   "cell_type": "code",
   "execution_count": 64,
   "metadata": {},
   "outputs": [
    {
     "data": {
      "text/plain": [
       "array([[0.12692955],\n",
       "       [0.9382959 ],\n",
       "       [0.92218996],\n",
       "       [0.92817161],\n",
       "       [0.02178742],\n",
       "       [0.02263153],\n",
       "       [0.01032033],\n",
       "       [0.99985865]])"
      ]
     },
     "execution_count": 64,
     "metadata": {},
     "output_type": "execute_result"
    }
   ],
   "source": [
    "y_pred"
   ]
  }
 ],
 "metadata": {
  "kernelspec": {
   "display_name": "Python 3",
   "language": "python",
   "name": "python3"
  },
  "language_info": {
   "codemirror_mode": {
    "name": "ipython",
    "version": 3
   },
   "file_extension": ".py",
   "mimetype": "text/x-python",
   "name": "python",
   "nbconvert_exporter": "python",
   "pygments_lexer": "ipython3",
   "version": "3.6.5"
  }
 },
 "nbformat": 4,
 "nbformat_minor": 2
}
