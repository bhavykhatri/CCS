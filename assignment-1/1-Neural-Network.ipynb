{
 "cells": [
  {
   "cell_type": "code",
   "execution_count": 1,
   "metadata": {},
   "outputs": [],
   "source": [
    "import numpy as np"
   ]
  },
  {
   "cell_type": "code",
   "execution_count": 2,
   "metadata": {},
   "outputs": [],
   "source": [
    "#In this assignment I have to learn f(a, b, c) where a,b,c are boolean variables.\n",
    "#Let's first try with f(abc) = abc i.e. boolean table will be as follows\n",
    "\n",
    "#a b c | f\n",
    "#0 0 0 | 0\n",
    "#: : : | 0\n",
    "#1 1 1 | 1\n"
   ]
  },
  {
   "cell_type": "code",
   "execution_count": 3,
   "metadata": {},
   "outputs": [],
   "source": [
    "def sigmoid(x):\n",
    "    return 1.0/(1+np.exp(-x))"
   ]
  },
  {
   "cell_type": "code",
   "execution_count": 4,
   "metadata": {},
   "outputs": [],
   "source": [
    "def h_compute(W, xn):\n",
    "    return sigmoid(np.dot(np.transpose(W), xn))"
   ]
  },
  {
   "cell_type": "code",
   "execution_count": 5,
   "metadata": {},
   "outputs": [],
   "source": [
    "def output_compute(U, hn):\n",
    "    return sigmoid(np.dot(np.transpose(U), hn))"
   ]
  },
  {
   "cell_type": "code",
   "execution_count": 6,
   "metadata": {},
   "outputs": [],
   "source": [
    "x_train = np.array([[0, 0, 0], [1, 0, 0], [0, 1, 0], [0, 0, 1], [1, 1, 0], [0, 1, 1], [1, 0, 1],[1, 1, 1]])\n",
    "#Actual output of booleans\n",
    "Y_train = np.array([[0, 1, 1, 1, 0, 0, 0, 1], [0, 0, 0, 1, 0, 0, 0, 1],\n",
    "                   [1, 0, 1, 0, 1, 0, 1, 0], [0, 0, 1, 0, 0, 0, 0, 0], [1, 1, 1, 1, 0, 0, 0, 0]])\n",
    "y_pred = np.zeros((8, 1))"
   ]
  },
  {
   "cell_type": "code",
   "execution_count": 7,
   "metadata": {},
   "outputs": [],
   "source": [
    "K = 4\n",
    "N = 8\n",
    "D = 3\n",
    "EPOCHS = 10000\n",
    "neta = 0.1"
   ]
  },
  {
   "cell_type": "code",
   "execution_count": 8,
   "metadata": {},
   "outputs": [],
   "source": [
    "#Neural net architecture\n",
    "#Input layer: 3 hidden nodes\n",
    "#Hidden Layer: 1 hidden layer with 4 nodes\n",
    "#Output Layer: 1 output node\n",
    "#Activation function: Sigmoid\n",
    "\n",
    "#At this step not considering bias term but you can include it in later stage\n",
    "#W is the weight Matrix of first layer\n",
    "#U is the weight vector of second layer"
   ]
  },
  {
   "cell_type": "code",
   "execution_count": 24,
   "metadata": {
    "scrolled": true
   },
   "outputs": [
    {
     "name": "stdout",
     "output_type": "stream",
     "text": [
      "For boolean function of \n",
      "Actual & 0.000 & 1.000 & 1.000 & 1.000 & 0.000 & 0.000 & 0.000 & 1.000 & \n",
      "\n",
      "The learnt values are\n",
      "Predicted & 0.081 & 0.946 & 0.958 & 0.945 & 0.039 & 0.035 & 0.021 & 0.988 & \n",
      "\n",
      "For boolean function of \n",
      "Actual & 0.000 & 0.000 & 0.000 & 1.000 & 0.000 & 0.000 & 0.000 & 1.000 & \n",
      "\n",
      "The learnt values are\n",
      "Predicted & 0.006 & 0.012 & 0.003 & 0.960 & 0.006 & 0.032 & 0.038 & 0.963 & \n",
      "\n",
      "For boolean function of \n",
      "Actual & 1.000 & 0.000 & 1.000 & 0.000 & 1.000 & 0.000 & 1.000 & 0.000 & \n",
      "\n",
      "The learnt values are\n",
      "Predicted & 0.988 & 0.245 & 0.999 & 0.248 & 0.958 & 0.021 & 0.629 & 0.002 & \n",
      "\n",
      "For boolean function of \n",
      "Actual & 0.000 & 0.000 & 1.000 & 0.000 & 0.000 & 0.000 & 0.000 & 0.000 & \n",
      "\n",
      "The learnt values are\n",
      "Predicted & 0.041 & 0.000 & 0.956 & 0.000 & 0.016 & 0.012 & 0.000 & 0.000 & \n",
      "\n",
      "For boolean function of \n",
      "Actual & 1.000 & 1.000 & 1.000 & 1.000 & 0.000 & 0.000 & 0.000 & 0.000 & \n",
      "\n",
      "The learnt values are\n",
      "Predicted & 1.000 & 0.915 & 0.923 & 0.914 & 0.072 & 0.068 & 0.089 & 0.004 & \n",
      "\n"
     ]
    }
   ],
   "source": [
    "for y in Y_train:\n",
    "    y_train = y.reshape(N, 1)\n",
    "    W = np.random.randn(D, K)\n",
    "    U = np.random.randn(K, 1)\n",
    "    H = np.zeros((N, K))\n",
    "    ERROR = np.zeros((N, 1))\n",
    "    y_pred = np.zeros((8, 1))\n",
    "    for i in range(EPOCHS):\n",
    "        for j in range(N):\n",
    "            H[j, :] = h_compute(W, x_train[j])\n",
    "            y_pred[j] = output_compute(U, H[j, :])\n",
    "            ERROR[j] = y_train[j] - y_pred[j]\n",
    "        #U update weights\n",
    "        for k in range(K):\n",
    "            gradk = 0\n",
    "            for n in range(N):\n",
    "                gradk  += -ERROR[n]*H[n, k]*y_pred[n]*(1-y_pred[n])\n",
    "            U[k] = U[k] - neta*gradk\n",
    "        #W weight updates\n",
    "        for d in range(D):\n",
    "            for k in range(K):\n",
    "                grad_w_dk = 0\n",
    "                for n in range(N):\n",
    "                    l1 = -ERROR[n]*U[k]*y_pred[n]*(1-y_pred[n])\n",
    "                    l2 = x_train[n, d]*H[n, k]*(1-H[n ,k])\n",
    "                    grad_w_dk += l1*l2   \n",
    "                W[d, k] = W[d, k] - neta*grad_w_dk\n",
    "    ###\n",
    "    print(\"For boolean function of \")\n",
    "    print(\"Actual\", end = \" & \")\n",
    "    for y in y_train:\n",
    "        print(\"%.3f\"%float(y),end = \" & \")\n",
    "    print(\"\\n\")\n",
    "    print (\"The learnt values are\")\n",
    "    print(\"Predicted\", end = \" & \")\n",
    "    for y in y_pred:\n",
    "        print(\"%.3f\"%float(y),end = \" & \")\n",
    "    print(\"\\n\")"
   ]
  },
  {
   "cell_type": "markdown",
   "metadata": {},
   "source": [
    "Reference Lecture Slides:  https://web.cse.iitk.ac.in/users/piyush/courses/ml-autumn18/771_A18_lec21_print.pdf"
   ]
  }
 ],
 "metadata": {
  "kernelspec": {
   "display_name": "Python 3",
   "language": "python",
   "name": "python3"
  },
  "language_info": {
   "codemirror_mode": {
    "name": "ipython",
    "version": 3
   },
   "file_extension": ".py",
   "mimetype": "text/x-python",
   "name": "python",
   "nbconvert_exporter": "python",
   "pygments_lexer": "ipython3",
   "version": "3.6.6"
  }
 },
 "nbformat": 4,
 "nbformat_minor": 2
}
