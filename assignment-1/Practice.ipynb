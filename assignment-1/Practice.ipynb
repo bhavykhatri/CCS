{
 "cells": [
  {
   "cell_type": "code",
   "execution_count": 9,
   "metadata": {},
   "outputs": [],
   "source": [
    "import numpy as np\n",
    "import matplotlib.pyplot as plt"
   ]
  },
  {
   "cell_type": "code",
   "execution_count": 10,
   "metadata": {},
   "outputs": [],
   "source": [
    "EPISODES = 1000\n",
    "INT_MIN = -99999"
   ]
  },
  {
   "cell_type": "code",
   "execution_count": 116,
   "metadata": {},
   "outputs": [],
   "source": [
    "class Qlearning:\n",
    "    def __init__(self, N = 10, M = 20, ALPHA = 0.8, LAMBDA = 0.8):\n",
    "        self.N = N\n",
    "        self.M = M\n",
    "        self.SIZE = N*N\n",
    "        self.MAX_STEPS = self.SIZE \n",
    "        self.ALPHA = ALPHA\n",
    "        self.LAMBDA = LAMBDA\n",
    "        #Q(s, a) matrix which is initially zero and of size N X N X 4\n",
    "        #there are four actions right left up down\n",
    "        #action right  = 0, down  = 1, left = 2, up = 3\n",
    "        self.Q = np.zeros((N, N, 4))\n",
    "        \n",
    "    def randomly_initialize_matrix(self,seed=42):\n",
    "        np.random.seed(seed)\n",
    "        #making matrix representing hole and frozen lake\n",
    "        #0 represent hole, 1 represent frozen lake, -1 represent start, -2 repesent terminal\n",
    "        a = np.ones( self.SIZE - self.M - 2) #-2 for start and terminal\n",
    "        b = np.zeros(self.M)\n",
    "        c = np.hstack((a, b))\n",
    "        np.random.shuffle(c)\n",
    "        start = -1\n",
    "        end = -2\n",
    "        self.matrix = np.hstack((start, c, end)).reshape(self.N, self.N)\n",
    "        return self.matrix\n",
    "    \n",
    "    def reward(self, ele):\n",
    "        if ele == 0:\n",
    "            return -100\n",
    "        elif ele == 1 or ele == -1:\n",
    "            return 0\n",
    "        elif ele == -2:\n",
    "            return 100\n",
    "    #return statement right 0, down 1, left 2, up 3\n",
    "    def chooseAction(self, statec):\n",
    "        j = [1, 0, -1, 0]\n",
    "        i = [0, 1, 0, -1]\n",
    "        ls = []\n",
    "        for k in range(4):\n",
    "            idx = statec[0] + i[k]\n",
    "            idy = statec[1] + j[k]\n",
    "            #checking the range of indices in the matrix\n",
    "            if(idx  >=0 and idx <=self.N-1 and idy >=0 and idy  <=self.N-1):\n",
    "                ls.append(self.Q[idx, idy, k])\n",
    "            else:\n",
    "                ls.append(INT_MIN)\n",
    "        return (statec[0] + i[np.argmax(ls)], statec[1] + j[np.argmax(ls)]), np.argmax(ls)\n",
    "    \n",
    "    def Qalgorithm(self):\n",
    "        self.rewardList = []\n",
    "        for epochs in range(EPISODES):\n",
    "            #i, j represent indices\n",
    "            statec = (0, 0)#current state\n",
    "            total_reward = 0\n",
    "            for steps in range(self.MAX_STEPS):\n",
    "                #print(statec, total_reward)\n",
    "                if(statec == (self.N-1, self.N-1)):\n",
    "                    break\n",
    "                #choose current action with maximum Q value\n",
    "                statenew, actionc = self.chooseAction( statec)\n",
    "                #print(statenew)\n",
    "                stateflag, actionprime = self.chooseAction(statenew)\n",
    "                #update the Q table\n",
    "                first_part = (1-self.ALPHA)*self.Q[statec[0], statec[1], actionc]\n",
    "                second_part = self.ALPHA*(self.reward(self.matrix[statenew[0], statenew[1]])   + self.LAMBDA*self.Q[statenew[0], statenew[1], actionprime])\n",
    "                self.Q[statec[0], statec[1], actionc] =  first_part + second_part\n",
    "                #adding reward\n",
    "                total_reward += self.reward(self.matrix[statenew[0], statenew[1]])\n",
    "                statec = statenew\n",
    "            self.rewardList.append(total_reward)\n",
    "            #print(\"Episode\" , epochs , \"Complete\")\n",
    "    \n",
    "    #method for plotting rewards with the episodes\n",
    "    def plotrewards(self, path):\n",
    "        plt.plot(range(EPISODES)[0:100], self.rewardList[0:100])\n",
    "        plt.xlabel(\"No of episodes\")\n",
    "        plt.ylabel(\"Total reward after each epoch\")\n",
    "        plt.savefig(path)\n",
    "        plt.show()\n",
    "    \n",
    "    #printing optimal path after learning the algorithm\n",
    "    def print_optimal_path(self):\n",
    "        statec = (0, 0)#current state\n",
    "        while(True):\n",
    "            print(statec, end = \"->\")\n",
    "            if(statec == (self.N-1, self.N-1)):\n",
    "                break\n",
    "            #choose current action with maximum Q value\n",
    "            statenew, actionc = self.chooseAction( statec)\n",
    "            statec = statenew"
   ]
  },
  {
   "cell_type": "code",
   "execution_count": 115,
   "metadata": {},
   "outputs": [
    {
     "name": "stdout",
     "output_type": "stream",
     "text": [
      "[[-1.  1.  1.  0.  0.  1.]\n",
      " [ 1.  1.  1.  0.  1.  1.]\n",
      " [ 1.  1.  1.  1.  1.  1.]\n",
      " [ 1.  1.  0.  1.  0.  1.]\n",
      " [ 0.  1.  1.  1.  1.  1.]\n",
      " [ 0.  1.  1.  1.  0. -2.]]\n",
      "((0, 1), 0)\n"
     ]
    },
    {
     "data": {
      "image/png": "[encoded data removed]",
      "text/plain": [
       "<Figure size 432x288 with 1 Axes>"
      ]
     },
     "metadata": {
      "needs_background": "light"
     },
     "output_type": "display_data"
    },
    {
     "name": "stdout",
     "output_type": "stream",
     "text": [
      "(0, 0)->(0, 1)->(1, 1)->(2, 1)->(2, 2)->(2, 3)->(2, 4)->(2, 5)->(3, 5)->(4, 5)->(5, 5)->"
     ]
    }
   ],
   "source": [
    "x =Qlearning(6,8, 0.8, 0.8)\n",
    "print(x.randomly_initialize_matrix(42))\n",
    "print(x.chooseAction((0, 0)))\n",
    "x.Qalgorithm()\n",
    "x.plotrewards('q-learning.jpg')\n",
    "x.print_optimal_path()"
   ]
  },
  {
   "cell_type": "code",
   "execution_count": null,
   "metadata": {},
   "outputs": [],
   "source": []
  }
 ],
 "metadata": {
  "kernelspec": {
   "display_name": "Python 3",
   "language": "python",
   "name": "python3"
  },
  "language_info": {
   "codemirror_mode": {
    "name": "ipython",
    "version": 3
   },
   "file_extension": ".py",
   "mimetype": "text/x-python",
   "name": "python",
   "nbconvert_exporter": "python",
   "pygments_lexer": "ipython3",
   "version": "3.6.6"
  }
 },
 "nbformat": 4,
 "nbformat_minor": 2
}
