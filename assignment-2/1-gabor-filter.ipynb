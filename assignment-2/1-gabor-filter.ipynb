{
 "cells": [
  {
   "cell_type": "code",
   "execution_count": 1,
   "metadata": {},
   "outputs": [],
   "source": [
    "import matplotlib.pyplot as plt\n",
    "import numpy as np\n",
    "import matplotlib as mp\n",
    "from matplotlib.collections import PatchCollection\n",
    "import cv2"
   ]
  },
  {
   "cell_type": "markdown",
   "metadata": {},
   "source": [
    "## Steps\n",
    "\n",
    "1. Create sample triangle and Square image.\n",
    "2. Using stack overflow https://stackoverflow.com/questions/50984205/how-to-find-corners-points-of-a-shape-in-an-image-in-opencv\n",
    "\n",
    "2. Apply gabor filter on it.\n",
    "3. Find no of points using harris corner detector"
   ]
  },
  {
   "cell_type": "code",
   "execution_count": 2,
   "metadata": {},
   "outputs": [],
   "source": [
    "#Marker size\n",
    "#change only if you want to chnage the marker size\n",
    "MARKER_SIZE = 10000"
   ]
  },
  {
   "cell_type": "code",
   "execution_count": 3,
   "metadata": {},
   "outputs": [],
   "source": [
    "def create_square():\n",
    "    plt.scatter(0, 0, marker='s', s =MARKER_SIZE)\n",
    "    plt.xlim([-1, 1])\n",
    "    plt.ylim([-1, 1])\n",
    "    plt.axis('off')\n",
    "    plt.savefig('square.jpg')\n",
    "    plt.show()"
   ]
  },
  {
   "cell_type": "code",
   "execution_count": 4,
   "metadata": {},
   "outputs": [],
   "source": [
    "def create_triangle():\n",
    "    plt.scatter(0, 0, marker='^', s =MARKER_SIZE)\n",
    "    plt.xlim([-1, 1])\n",
    "    plt.ylim([-1, 1])\n",
    "    plt.axis('off')\n",
    "    plt.savefig('triangle.jpg')\n",
    "    plt.show()"
   ]
  },
  {
   "cell_type": "code",
   "execution_count": 5,
   "metadata": {},
   "outputs": [],
   "source": [
    "#create_square()\n",
    "#create_triangle()"
   ]
  },
  {
   "cell_type": "markdown",
   "metadata": {},
   "source": [
    "## Use gabor filter"
   ]
  },
  {
   "cell_type": "code",
   "execution_count": 6,
   "metadata": {},
   "outputs": [],
   "source": [
    "def build_filters():\n",
    "    filters = []\n",
    "    ksize = 31\n",
    "    for theta in np.arange(0, np.pi, np.pi / 16):\n",
    "        kern = cv2.getGaborKernel((ksize, ksize), 4.0, theta, 10.0, 0.5, 0, ktype=cv2.CV_32F)\n",
    "        kern /= 1.5*kern.sum()\n",
    "        filters.append(kern)\n",
    "    return filters\n",
    " \n",
    "def process(img, filters):\n",
    "    accum = np.zeros_like(img)\n",
    "    for kern in filters:\n",
    "        fimg = cv2.filter2D(img, cv2.CV_8UC3, kern)\n",
    "        np.maximum(accum, fimg, accum)\n",
    "    return accum"
   ]
  },
  {
   "cell_type": "code",
   "execution_count": 7,
   "metadata": {},
   "outputs": [],
   "source": [
    "def create_gabor_image(filename):\n",
    "    img = cv2.imread(filename, 0)\n",
    "    #plt.imshow(img, cmap = 'gray')\n",
    "\n",
    "    filters = build_filters()\n",
    "    res1 = process(img, filters)\n",
    "\n",
    "    cv2.imwrite('gabor-'+filename,res1)"
   ]
  },
  {
   "cell_type": "code",
   "execution_count": 8,
   "metadata": {},
   "outputs": [],
   "source": [
    "create_gabor_image('square.jpg')\n",
    "create_gabor_image('triangle.jpg')"
   ]
  },
  {
   "cell_type": "markdown",
   "metadata": {},
   "source": [
    "## Using harris corner detector"
   ]
  },
  {
   "cell_type": "code",
   "execution_count": 9,
   "metadata": {},
   "outputs": [],
   "source": [
    "#this function take file path and return number of corners in the image\n",
    "def corners(filename):\n",
    "    img =  cv2.imread(filename)\n",
    "\n",
    "    gray = cv2.cvtColor(img,cv2.COLOR_BGR2GRAY)\n",
    "\n",
    "    gray = np.float32(gray)\n",
    "    dst = cv2.cornerHarris(gray,5,3,0.04)\n",
    "\n",
    "\n",
    "    ret, dst = cv2.threshold(dst,0.1*dst.max(),255,0)\n",
    "    dst = np.uint8(dst)\n",
    "    ret, labels, stats, centroids = cv2.connectedComponentsWithStats(dst)\n",
    "    criteria = (cv2.TERM_CRITERIA_EPS + cv2.TERM_CRITERIA_MAX_ITER, 100, 0.001)\n",
    "    corners = cv2.cornerSubPix(gray,np.float32(centroids),(5,5),(-1,-1),criteria)\n",
    "\n",
    "    print(len(corners) -1)\n",
    "\n",
    "    for i in range(1, len(corners)):\n",
    "        print(corners[i])\n",
    "    img[dst>0.1*dst.max()]=[0,0,255]\n",
    "\n",
    "\n",
    "    img = img[:, :, ::-1]\n",
    "    plt.imshow(img)\n",
    "    \n",
    "    cv2.imwrite('corner-' + filename ,img)\n",
    "    #plt.savefig('corners-square.jpg')\n",
    "    \n",
    "    return len(corners) - 1"
   ]
  },
  {
   "cell_type": "code",
   "execution_count": 10,
   "metadata": {},
   "outputs": [],
   "source": [
    "def sq_or_triangle(no_of_corners):\n",
    "    if no_of_corners == 4:\n",
    "        print(\"The given shape is Square\")\n",
    "    elif no_of_corners == 3:\n",
    "        print(\"The given shape is triangle\")"
   ]
  },
  {
   "cell_type": "code",
   "execution_count": 11,
   "metadata": {
    "scrolled": true
   },
   "outputs": [
    {
     "name": "stdout",
     "output_type": "stream",
     "text": [
      "4\n",
      "[172.12563  94.10028]\n",
      "[269.91653   94.138794]\n",
      "[172.10622 191.88379]\n",
      "[269.82977 191.94562]\n",
      "The given shape is Square\n"
     ]
    },
    {
     "data": {
      "image/png": "[encoded data removed]",
      "text/plain": [
       "<Figure size 432x288 with 1 Axes>"
      ]
     },
     "metadata": {
      "needs_background": "light"
     },
     "output_type": "display_data"
    }
   ],
   "source": [
    "result = corners('gabor-square.jpg')\n",
    "sq_or_triangle(result)"
   ]
  },
  {
   "cell_type": "code",
   "execution_count": 12,
   "metadata": {
    "scrolled": true
   },
   "outputs": [
    {
     "name": "stdout",
     "output_type": "stream",
     "text": [
      "3\n",
      "[221.00903   93.664055]\n",
      "[171.76515 192.22105]\n",
      "[270.2295  192.22148]\n",
      "The given shape is triangle\n"
     ]
    },
    {
     "data": {
      "image/png": "[encoded data removed]",
      "text/plain": [
       "<Figure size 432x288 with 1 Axes>"
      ]
     },
     "metadata": {
      "needs_background": "light"
     },
     "output_type": "display_data"
    }
   ],
   "source": [
    "result = corners('gabor-triangle.jpg')\n",
    "sq_or_triangle(result)"
   ]
  },
  {
   "cell_type": "code",
   "execution_count": null,
   "metadata": {},
   "outputs": [],
   "source": []
  }
 ],
 "metadata": {
  "kernelspec": {
   "display_name": "Python 3",
   "language": "python",
   "name": "python3"
  },
  "language_info": {
   "codemirror_mode": {
    "name": "ipython",
    "version": 3
   },
   "file_extension": ".py",
   "mimetype": "text/x-python",
   "name": "python",
   "nbconvert_exporter": "python",
   "pygments_lexer": "ipython3",
   "version": "3.6.8"
  }
 },
 "nbformat": 4,
 "nbformat_minor": 2
}
