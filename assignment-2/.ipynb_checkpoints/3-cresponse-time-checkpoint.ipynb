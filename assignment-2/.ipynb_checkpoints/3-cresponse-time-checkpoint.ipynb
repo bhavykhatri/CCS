{
 "cells": [
  {
   "cell_type": "code",
   "execution_count": 1,
   "metadata": {},
   "outputs": [],
   "source": [
    "import matplotlib.pyplot as plt\n",
    "import numpy as np\n",
    "import matplotlib as mp\n",
    "from matplotlib.collections import PatchCollection\n",
    "import cv2\n",
    "import os\n",
    "import time"
   ]
  },
  {
   "cell_type": "code",
   "execution_count": 2,
   "metadata": {},
   "outputs": [],
   "source": [
    "#folder for all the images created in between\n",
    "RESPONSE_FOLDER = '/home/bhavy/Dropbox/8th-semester/computational cognitive science/assignments/assignment-2/response-time-experiment'\n",
    "\n",
    "trils = [1, 2, 4, 6]\n",
    "sqls =  [1, 1, 1, 1]\n",
    "\n",
    "sizels = [2, 3, 5, 9]\n",
    "\n",
    "#total number of triangles and Squares\n",
    "TRIANGLES = 4\n",
    "SQUARES = 1\n",
    "#total no of objects\n",
    "SIZE = TRIANGLES + SQUARES\n",
    "#Experiment type\n",
    "FEATURE = 'feature'\n",
    "CONJUNCTION = 'conjunction'\n",
    "#Marker size\n",
    "#change only if you want to chnage the marker size\n",
    "MARKER_SIZE = 500\n",
    "SEED = 1"
   ]
  },
  {
   "cell_type": "markdown",
   "metadata": {},
   "source": [
    "## Gabor Modules"
   ]
  },
  {
   "cell_type": "code",
   "execution_count": 3,
   "metadata": {},
   "outputs": [],
   "source": [
    "def build_filters():\n",
    "    filters = []\n",
    "    ksize = 31\n",
    "    for theta in np.arange(0, np.pi, np.pi / 16):\n",
    "        kern = cv2.getGaborKernel((ksize, ksize), 4.0, theta, 10.0, 0.5, 0, ktype=cv2.CV_32F)\n",
    "        kern /= 1.5*kern.sum()\n",
    "        filters.append(kern)\n",
    "    return filters\n",
    " \n",
    "def process(img, filters):\n",
    "    accum = np.zeros_like(img)\n",
    "    for kern in filters:\n",
    "        fimg = cv2.filter2D(img, cv2.CV_8UC3, kern)\n",
    "        np.maximum(accum, fimg, accum)\n",
    "    return accum"
   ]
  },
  {
   "cell_type": "code",
   "execution_count": 4,
   "metadata": {},
   "outputs": [],
   "source": [
    "def create_gabor_image(filename):\n",
    "    img = cv2.imread(filename, 0)\n",
    "    #plt.imshow(img, cmap = 'gray')\n",
    "\n",
    "    filters = build_filters()\n",
    "    res1 = process(img, filters)\n",
    "\n",
    "    cv2.imwrite('gabor-'+filename,res1)"
   ]
  },
  {
   "cell_type": "code",
   "execution_count": 5,
   "metadata": {},
   "outputs": [],
   "source": [
    "#this function take file path and return number of corners in the image\n",
    "def corners(filename):\n",
    "    img =  cv2.imread(filename)\n",
    "\n",
    "    gray = cv2.cvtColor(img,cv2.COLOR_BGR2GRAY)\n",
    "\n",
    "    gray = np.float32(gray)\n",
    "    dst = cv2.cornerHarris(gray,5,3,0.04)\n",
    "\n",
    "\n",
    "    ret, dst = cv2.threshold(dst,0.1*dst.max(),255,0)\n",
    "    dst = np.uint8(dst)\n",
    "    ret, labels, stats, centroids = cv2.connectedComponentsWithStats(dst)\n",
    "    criteria = (cv2.TERM_CRITERIA_EPS + cv2.TERM_CRITERIA_MAX_ITER, 100, 0.001)\n",
    "    corners = cv2.cornerSubPix(gray,np.float32(centroids),(5,5),(-1,-1),criteria)\n",
    "\n",
    "    print(len(corners) -1)\n",
    "\n",
    "    for i in range(1, len(corners)):\n",
    "        print(corners[i])\n",
    "    img[dst>0.1*dst.max()]=[0,0,255]\n",
    "\n",
    "\n",
    "    img = img[:, :, ::-1]\n",
    "    #plt.imshow(img)\n",
    "    \n",
    "    cv2.imwrite(os.path.join(RESPONSE_FOLDER,'corner-' + filename.split('/')[-1]) ,img)\n",
    "    #plt.savefig('corners-square.jpg')\n",
    "    \n",
    "    return len(corners) - 1"
   ]
  },
  {
   "cell_type": "code",
   "execution_count": 6,
   "metadata": {},
   "outputs": [],
   "source": [
    "def sq_or_triangle(no_of_corners):\n",
    "    if no_of_corners == 4:\n",
    "        print(\"The given shape is Square\")\n",
    "    elif no_of_corners == 3:\n",
    "        print(\"The given shape is triangle\")"
   ]
  },
  {
   "cell_type": "markdown",
   "metadata": {},
   "source": [
    "## FIT Modules"
   ]
  },
  {
   "cell_type": "code",
   "execution_count": 7,
   "metadata": {},
   "outputs": [],
   "source": [
    "#experiment type represent whether to use feature search where only one feature will be present such as shape or\n",
    "#to use conjunction search where both color and shape will be present\n",
    "#if nothing specified \n",
    "def generate_plot(TRIANGLES, SQUARES, SIZE,  experiment_type = 'feature'):\n",
    "    np.random.seed(SEED)\n",
    "    #plot  size\n",
    "    fig=plt.figure(figsize=(7.5, 5), dpi= 80, facecolor='w', edgecolor='k')\n",
    "    \n",
    "    #generating co-ordinates uniformly\n",
    "    a = np.random.uniform(-2, 2, SIZE).reshape(-1, 1)\n",
    "    b = np.random.uniform(-2, 2, SIZE).reshape(-1, 1)\n",
    "    #co-ordinates\n",
    "    cord = np.concatenate((a,b), axis = 1)\n",
    "    \n",
    "    if experiment_type == 'feature':\n",
    "        #marker ^ represents triangle and s represents square\n",
    "        plt.scatter(cord[0:TRIANGLES, 0], cord[0:TRIANGLES, 1], marker='^', s =MARKER_SIZE, c = 'g')\n",
    "        plt.scatter(cord[TRIANGLES: SIZE, 0], cord[TRIANGLES:SIZE, 1], marker='s', s =MARKER_SIZE, c = 'g')\n",
    "        plt.xlim([-2.5, 2.5])\n",
    "        plt.ylim([-2.5, 2.5])\n",
    "        plt.axis('off')\n",
    "        plt.savefig(os.path.join(RESPONSE_FOLDER, 'size-' + str(TRIANGLES + SQUARES)+  'simulation-feature.jpg'))\n",
    "    else:\n",
    "        for i in range(SIZE):\n",
    "            #plotting triangles\n",
    "            if i < TRIANGLES:\n",
    "                #randomly deciding colors, half time red and half time blue\n",
    "                if np.random.uniform()<0.5:\n",
    "                    plt.scatter(cord[i, 0], cord[i, 1], marker='^', s =MARKER_SIZE, c = 'r')\n",
    "                else:\n",
    "                    plt.scatter(cord[i, 0], cord[i, 1], marker='^', s =MARKER_SIZE, c = 'b')\n",
    "            #plotting squares\n",
    "            else:\n",
    "                if np.random.uniform()<0.5:\n",
    "                    plt.scatter(cord[i, 0], cord[i, 1], marker='s', s =MARKER_SIZE, c = 'r')\n",
    "                else:\n",
    "                    plt.scatter(cord[i, 0], cord[i, 1], marker='s', s =MARKER_SIZE, c = 'b')\n",
    "        plt.xlim([-2.5, 2.5])\n",
    "        plt.ylim([-2.5, 2.5])\n",
    "        plt.axis('off')\n",
    "        plt.savefig(os.path.join(RESPONSE_FOLDER, 'size-' + str(TRIANGLES + SQUARES)+  'simulation-conjunction.jpg'))"
   ]
  },
  {
   "cell_type": "code",
   "execution_count": 8,
   "metadata": {},
   "outputs": [],
   "source": [
    "def extract_boxes(img_col, i, SIZE, experiment_type, contours):\n",
    "    x,y,w,h = cv2.boundingRect(contours[i])\n",
    "    #img = cv2.rectangle(img_col,(x,y),(x+w,y+h),(0,255,0),2)\n",
    "    im3 = img_col[y:y+h, x:x+w]\n",
    "    #plt.imshow(im3[:, :, ::-1])\n",
    "    plt.axis('off')\n",
    "    plt.savefig(os.path.join(RESPONSE_FOLDER, 'size-' + str(SIZE) + '-' + experiment_type +'-'+str(i) + '.jpg'))"
   ]
  },
  {
   "cell_type": "code",
   "execution_count": 9,
   "metadata": {},
   "outputs": [],
   "source": [
    "def simulation(TRIANGLES, SQUARES, SIZE, filename, experiment_type):\n",
    "    img = cv2.imread(filename, 0)\n",
    "    ret,thresh = cv2.threshold(img,127,255,cv2.THRESH_BINARY_INV)\n",
    "    #plt.imshow(thresh, cmap = 'gray')\n",
    "\n",
    "    #finding contours on the threshold image\n",
    "    im2, contours, hierarchy = cv2.findContours(thresh,cv2.RETR_TREE,cv2.CHAIN_APPROX_SIMPLE)\n",
    "    \n",
    "    #loading colored image\n",
    "    #file_to_read = os.path.join(RESPONSE_FOLDER, 'size-' + str(TRIANGLES + SQUARES)+  'simulation-' + experiment_type +'.jpg')\n",
    "    img_col = cv2.imread(filename)\n",
    "    \n",
    "    print(len(contours))\n",
    "    #extracting boxes\n",
    "    for i in range(len(contours)):\n",
    "        x,y,w,h = cv2.boundingRect(contours[i])\n",
    "        #img = cv2.rectangle(img_col,(x,y),(x+w,y+h),(0,255,0),2)\n",
    "        im3 = img_col[y-1:y+h+1, x-1:x+w+1]\n",
    "        cv2.imwrite(os.path.join(RESPONSE_FOLDER, 'size-' + str(SIZE) + '-' + experiment_type +'-'+str(i) + '.jpg'), im3)\n",
    "        #plt.axis('off')\n",
    "        #plt.savefig(os.path.join(RESPONSE_FOLDER, 'size-' + str(SIZE) + '-' + experiment_type +'-'+str(i) + '.jpg'))"
   ]
  },
  {
   "cell_type": "code",
   "execution_count": 10,
   "metadata": {},
   "outputs": [
    {
     "name": "stdout",
     "output_type": "stream",
     "text": [
      "2\n",
      "3\n",
      "[12.98586     0.15618531]\n",
      "[ 0.14048845 24.902758  ]\n",
      "[25.862877 24.910881]\n",
      "The given shape is triangle\n",
      "4\n",
      "[0.58546007 0.5691435 ]\n",
      "[25.42254     0.57333237]\n",
      "[ 0.5752151 25.43755  ]\n",
      "[25.422928 25.434515]\n",
      "The given shape is Square\n",
      "total time taken this loop:  0.0785837173461914\n",
      "3\n",
      "4\n",
      "[0.58590686 0.5640029 ]\n",
      "[25.417618    0.57269466]\n",
      "[ 0.5666948 25.43068  ]\n",
      "[25.433159 25.430418]\n",
      "The given shape is Square\n",
      "3\n",
      "[12.966617    0.12622014]\n",
      "[ 0.15379788 24.861593  ]\n",
      "[25.860899 24.891926]\n",
      "The given shape is triangle\n",
      "3\n",
      "[12.979902    0.11396163]\n",
      "[ 0.15561976 24.863266  ]\n",
      "[25.866472 24.869684]\n",
      "The given shape is triangle\n",
      "total time taken this loop:  0.04238605499267578\n",
      "5\n",
      "3\n",
      "[12.972137   0.1311574]\n",
      "[ 0.14045735 24.897057  ]\n",
      "[25.870026 24.939297]\n",
      "The given shape is triangle\n",
      "3\n",
      "[12.967822    0.14745386]\n",
      "[ 0.15042883 24.886642  ]\n",
      "[25.82853  24.861338]\n",
      "The given shape is triangle\n",
      "3\n",
      "[13.026887    0.15089417]\n",
      "[ 0.15723562 24.88264   ]\n",
      "[25.852877 24.88256 ]\n",
      "The given shape is triangle\n",
      "3\n",
      "[12.985057    0.15760767]\n",
      "[ 0.14659607 24.900978  ]\n",
      "[25.857351 24.941755]\n",
      "The given shape is triangle\n",
      "4\n",
      "[0.57923305 0.582445  ]\n",
      "[25.419664   0.5647628]\n",
      "[ 0.5690377 25.432297 ]\n",
      "[25.42777  25.433327]\n",
      "The given shape is Square\n",
      "total time taken this loop:  0.0589601993560791\n",
      "7\n",
      "3\n",
      "[12.978347    0.11025518]\n",
      "[ 0.1561841 24.877804 ]\n",
      "[25.84954  24.860926]\n",
      "The given shape is triangle\n",
      "3\n",
      "[12.966617    0.12622014]\n",
      "[ 0.15379788 24.861593  ]\n",
      "[25.860899 24.891926]\n",
      "The given shape is triangle\n",
      "3\n",
      "[12.98586     0.15618531]\n",
      "[ 0.14048845 24.902758  ]\n",
      "[25.862877 24.910881]\n",
      "The given shape is triangle\n",
      "3\n",
      "[13.006873    0.15345001]\n",
      "[ 0.16660407 24.844456  ]\n",
      "[25.84073  24.884575]\n",
      "The given shape is triangle\n",
      "3\n",
      "[13.011447   0.1287214]\n",
      "[ 0.15029056 24.885618  ]\n",
      "[25.841545 24.899687]\n",
      "The given shape is triangle\n",
      "3\n",
      "[12.980822    0.14387697]\n",
      "[ 0.14317566 24.841787  ]\n",
      "[25.85146  24.908455]\n",
      "The given shape is triangle\n",
      "4\n",
      "[0.5775308 0.5822926]\n",
      "[25.426283   0.5686084]\n",
      "[ 0.56558204 25.421745  ]\n",
      "[25.428762 25.430582]\n",
      "The given shape is Square\n",
      "total time taken this loop:  0.058814048767089844\n"
     ]
    },
    {
     "data": {
      "image/png": "[encoded data removed]",
      "text/plain": [
       "<Figure size 600x400 with 1 Axes>"
      ]
     },
     "metadata": {},
     "output_type": "display_data"
    },
    {
     "data": {
      "image/png": "[encoded data removed]",
      "text/plain": [
       "<Figure size 600x400 with 1 Axes>"
      ]
     },
     "metadata": {},
     "output_type": "display_data"
    },
    {
     "data": {
      "image/png": "[encoded data removed]",
      "text/plain": [
       "<Figure size 600x400 with 1 Axes>"
      ]
     },
     "metadata": {},
     "output_type": "display_data"
    },
    {
     "data": {
      "image/png": "[encoded data removed]",
      "text/plain": [
       "<Figure size 600x400 with 1 Axes>"
      ]
     },
     "metadata": {},
     "output_type": "display_data"
    }
   ],
   "source": [
    "experiment_type = 'feature'\n",
    "feature_time_ls = []\n",
    "for TRIANGLES, SQUARES in zip(trils, sqls):\n",
    "    start_time = time.time()    \n",
    "    ####\n",
    "    generate_plot(TRIANGLES, SQUARES, TRIANGLES + SQUARES,  'feature')\n",
    "    file_to_read = os.path.join(RESPONSE_FOLDER, 'size-' + str(TRIANGLES + SQUARES)+  'simulation-' + experiment_type +'.jpg')\n",
    "    simulation(TRIANGLES, SQUARES, TRIANGLES + SQUARES, file_to_read , experiment_type)\n",
    "    \n",
    "    for i in range(TRIANGLES + SQUARES):\n",
    "        SIZE = TRIANGLES + SQUARES\n",
    "        filename = os.path.join(RESPONSE_FOLDER, 'size-' + str(SIZE) + '-' + experiment_type +'-'+str(i) + '.jpg')\n",
    "        result = corners(filename)\n",
    "        sq_or_triangle(result)\n",
    "        \n",
    "    #######\n",
    "    end_time = time.time()\n",
    "    print(\"total time taken this loop: \", end_time - start_time)\n",
    "    feature_time_ls.append(end_time - start_time)  "
   ]
  },
  {
   "cell_type": "code",
   "execution_count": 11,
   "metadata": {},
   "outputs": [
    {
     "name": "stdout",
     "output_type": "stream",
     "text": [
      "2\n",
      "3\n",
      "[12.936319    0.05291748]\n",
      "[ 0.1528199 24.816309 ]\n",
      "[25.846903 24.799417]\n",
      "The given shape is triangle\n",
      "4\n",
      "[0.59342855 0.56861615]\n",
      "[25.432562   0.5990451]\n",
      "[ 0.60342973 25.42747   ]\n",
      "[25.412504 25.419977]\n",
      "The given shape is Square\n",
      "total time taken this loop:  0.3530302047729492\n",
      "3\n",
      "4\n",
      "[0.5788308 0.5848373]\n",
      "[25.405304    0.59257925]\n",
      "[ 0.5850402 25.428432 ]\n",
      "[25.416538 25.417608]\n",
      "The given shape is Square\n",
      "3\n",
      "[12.97534     0.11043224]\n",
      "[ 0.16409792 24.757524  ]\n",
      "[25.842768 24.815577]\n",
      "The given shape is triangle\n",
      "3\n",
      "[12.970917    0.09218226]\n",
      "[ 0.14650466 24.77771   ]\n",
      "[25.864958 24.819008]\n",
      "The given shape is triangle\n",
      "total time taken this loop:  0.4782989025115967\n",
      "5\n",
      "3\n",
      "[12.961792    0.07404327]\n",
      "[ 0.1628054 24.809517 ]\n",
      "[25.857187 24.833773]\n",
      "The given shape is triangle\n",
      "3\n",
      "[12.9733715   0.12354638]\n",
      "[ 0.14355832 24.846796  ]\n",
      "[25.86137  24.861496]\n",
      "The given shape is triangle\n",
      "3\n",
      "[13.014805    0.07627121]\n",
      "[ 0.15555172 24.771618  ]\n",
      "[25.840696 24.799604]\n",
      "The given shape is triangle\n",
      "3\n",
      "[13.021727    0.10499463]\n",
      "[ 0.14802675 24.812384  ]\n",
      "[25.840277 24.847837]\n",
      "The given shape is triangle\n",
      "4\n",
      "[0.58089656 0.59934485]\n",
      "[25.409147   0.5847388]\n",
      "[ 0.5949615 25.417349 ]\n",
      "[25.42022  25.409094]\n",
      "The given shape is Square\n",
      "total time taken this loop:  0.6538634300231934\n",
      "7\n",
      "3\n",
      "[12.98839     0.05402482]\n",
      "[ 0.16851284 24.78905   ]\n",
      "[25.834255 24.772951]\n",
      "The given shape is triangle\n",
      "3\n",
      "[12.97534     0.11043224]\n",
      "[ 0.16409792 24.757524  ]\n",
      "[25.842768 24.815577]\n",
      "The given shape is triangle\n",
      "3\n",
      "[12.978559    0.10113576]\n",
      "[ 0.15981932 24.809483  ]\n",
      "[25.835253 24.83146 ]\n",
      "The given shape is triangle\n",
      "3\n",
      "[13.002151   0.1179364]\n",
      "[ 0.1401806 24.854544 ]\n",
      "[25.85914  24.888086]\n",
      "The given shape is triangle\n",
      "3\n",
      "[13.020003    0.07088726]\n",
      "[ 0.147657 24.779142]\n",
      "[25.847254 24.835047]\n",
      "The given shape is triangle\n",
      "3\n",
      "[13.003279    0.08680398]\n",
      "[ 0.15579654 24.75807   ]\n",
      "[25.822906 24.801702]\n",
      "The given shape is triangle\n",
      "4\n",
      "[0.5651785 0.5799934]\n",
      "[25.429262    0.57813734]\n",
      "[ 0.57272595 25.427868  ]\n",
      "[25.424871 25.429823]\n",
      "The given shape is Square\n",
      "total time taken this loop:  0.9078633785247803\n"
     ]
    },
    {
     "data": {
      "image/png": "[encoded data removed]",
      "text/plain": [
       "<Figure size 600x400 with 1 Axes>"
      ]
     },
     "metadata": {},
     "output_type": "display_data"
    },
    {
     "data": {
      "image/png": "[encoded data removed]",
      "text/plain": [
       "<Figure size 600x400 with 1 Axes>"
      ]
     },
     "metadata": {},
     "output_type": "display_data"
    },
    {
     "data": {
      "image/png": "[encoded data removed]",
      "text/plain": [
       "<Figure size 600x400 with 1 Axes>"
      ]
     },
     "metadata": {},
     "output_type": "display_data"
    },
    {
     "data": {
      "image/png": "[encoded data removed]",
      "text/plain": [
       "<Figure size 600x400 with 1 Axes>"
      ]
     },
     "metadata": {},
     "output_type": "display_data"
    }
   ],
   "source": [
    "experiment_type = 'conjunction'\n",
    "conjunction_time_ls = []\n",
    "for TRIANGLES, SQUARES in zip(trils, sqls):\n",
    "    start_time = time.time()    \n",
    "    ####\n",
    "    #finding shape\n",
    "    generate_plot(TRIANGLES, SQUARES, TRIANGLES + SQUARES,  'conjunction')\n",
    "    file_to_read = os.path.join(RESPONSE_FOLDER, 'size-' + str(TRIANGLES + SQUARES)+  'simulation-' + experiment_type +'.jpg')\n",
    "    simulation(TRIANGLES, SQUARES, TRIANGLES + SQUARES, file_to_read , experiment_type)\n",
    "    \n",
    "    for i in range(TRIANGLES + SQUARES):\n",
    "        SIZE = TRIANGLES + SQUARES\n",
    "        filename = os.path.join(RESPONSE_FOLDER, 'size-' + str(SIZE) + '-' + experiment_type +'-'+str(i) + '.jpg')\n",
    "        result = corners(filename)\n",
    "        sq_or_triangle(result)\n",
    "        #time.sleep(0.01)\n",
    "    #adding delay\n",
    "    time.sleep(0.1)\n",
    "    #finding color \n",
    "    for i in range(TRIANGLES + SQUARES):\n",
    "        time.sleep(0.1)\n",
    "    #######\n",
    "    end_time = time.time()\n",
    "    print(\"total time taken this loop: \", end_time - start_time)\n",
    "    conjunction_time_ls.append(end_time - start_time)  "
   ]
  },
  {
   "cell_type": "code",
   "execution_count": 12,
   "metadata": {},
   "outputs": [
    {
     "data": {
      "image/png": "[encoded data removed]",
      "text/plain": [
       "<Figure size 432x288 with 1 Axes>"
      ]
     },
     "metadata": {
      "needs_background": "light"
     },
     "output_type": "display_data"
    }
   ],
   "source": [
    "plt.plot(sizels, feature_time_ls, 'ro--', label = 'feature search')\n",
    "plt.plot(sizels, conjunction_time_ls, 'go--', label = 'conjunction search')\n",
    "plt.xlabel(\"No. of object\")\n",
    "plt.ylabel(\"Total time taken\")\n",
    "plt.legend()\n",
    "plt.title(\"Response time-FIT\")\n",
    "plt.savefig(\"response-time.jpg\")"
   ]
  },
  {
   "cell_type": "code",
   "execution_count": null,
   "metadata": {},
   "outputs": [],
   "source": []
  }
 ],
 "metadata": {
  "kernelspec": {
   "display_name": "Python 3",
   "language": "python",
   "name": "python3"
  },
  "language_info": {
   "codemirror_mode": {
    "name": "ipython",
    "version": 3
   },
   "file_extension": ".py",
   "mimetype": "text/x-python",
   "name": "python",
   "nbconvert_exporter": "python",
   "pygments_lexer": "ipython3",
   "version": "3.6.8"
  }
 },
 "nbformat": 4,
 "nbformat_minor": 2
}
