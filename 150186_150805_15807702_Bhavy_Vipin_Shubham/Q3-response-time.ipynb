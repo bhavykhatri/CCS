{
 "cells": [
  {
   "cell_type": "code",
   "execution_count": 1,
   "metadata": {},
   "outputs": [],
   "source": [
    "import matplotlib.pyplot as plt\n",
    "import numpy as np\n",
    "import matplotlib as mp\n",
    "from matplotlib.collections import PatchCollection\n",
    "import cv2\n",
    "import os\n",
    "import time\n",
    "import copy"
   ]
  },
  {
   "cell_type": "code",
   "execution_count": 2,
   "metadata": {},
   "outputs": [],
   "source": [
    "#folder for all the images created in between\n",
    "RESPONSE_FOLDER = 'response-time-experiment'\n",
    "\n",
    "trils = [1, 2, 4, 6]\n",
    "sqls =  [1, 1, 1, 1]\n",
    "\n",
    "sizels = [2, 3, 5, 7]\n",
    "\n",
    "#total number of triangles and Squares\n",
    "TRIANGLES = 4\n",
    "SQUARES = 1\n",
    "#total no of objects\n",
    "SIZE = TRIANGLES + SQUARES\n",
    "#Experiment type\n",
    "FEATURE = 'feature'\n",
    "CONJUNCTION = 'conjunction'\n",
    "#Marker size\n",
    "#change only if you want to chnage the marker size\n",
    "MARKER_SIZE = 500\n",
    "SEED = 1"
   ]
  },
  {
   "cell_type": "markdown",
   "metadata": {},
   "source": [
    "## Gabor Modules"
   ]
  },
  {
   "cell_type": "code",
   "execution_count": 3,
   "metadata": {},
   "outputs": [],
   "source": [
    "def build_filters():\n",
    "    filters = []\n",
    "    ksize = 31\n",
    "    for theta in np.arange(0, np.pi, np.pi / 16):\n",
    "        kern = cv2.getGaborKernel((ksize, ksize), 4.0, theta, 10.0, 0.5, 0, ktype=cv2.CV_32F)\n",
    "        kern /= 1.5*kern.sum()\n",
    "        filters.append(kern)\n",
    "    return filters\n",
    " \n",
    "\n",
    "def process1(img, filters):\n",
    "    kern = filters[4]\n",
    "    fimg = cv2.filter2D(img, cv2.CV_8UC3, kern)\n",
    "\n",
    "    img1 = copy.deepcopy(fimg)\n",
    "    img1[img1<200] = 0\n",
    "    #plt.imshow(img1)\n",
    "    #plt.imshow(img1, cmap='gray')\n",
    "        \n",
    "    return img1, np.sum(img1)\n",
    "\n",
    "def get_shape(filename):\n",
    "    img = cv2.imread(filename, 0)\n",
    "    filters = build_filters()\n",
    "    img1, sum1 = process1(img, filters)\n",
    "    \n",
    "    #plt.imshow(img1, cmap = 'gray')\n",
    "    print(sum1)\n",
    "    if(sum1>20000):\n",
    "        return img1, 'triangle'\n",
    "    else:\n",
    "        return img1, 'square'"
   ]
  },
  {
   "cell_type": "markdown",
   "metadata": {},
   "source": [
    "## FIT Modules"
   ]
  },
  {
   "cell_type": "code",
   "execution_count": 4,
   "metadata": {},
   "outputs": [],
   "source": [
    "#experiment type represent whether to use feature search where only one feature will be present such as shape or\n",
    "#to use conjunction search where both color and shape will be present\n",
    "#if nothing specified \n",
    "def generate_plot(TRIANGLES, SQUARES, SIZE,  experiment_type = 'feature'):\n",
    "    np.random.seed(SEED)\n",
    "    #plot  size\n",
    "    fig=plt.figure(figsize=(7.5, 5), dpi= 80, facecolor='w', edgecolor='k')\n",
    "    \n",
    "    #generating co-ordinates uniformly\n",
    "    a = np.random.uniform(-2, 2, SIZE).reshape(-1, 1)\n",
    "    b = np.random.uniform(-2, 2, SIZE).reshape(-1, 1)\n",
    "    #co-ordinates\n",
    "    cord = np.concatenate((a,b), axis = 1)\n",
    "    \n",
    "    if experiment_type == 'feature':\n",
    "        #marker ^ represents triangle and s represents square\n",
    "        plt.scatter(cord[0:TRIANGLES, 0], cord[0:TRIANGLES, 1], marker='^', s =MARKER_SIZE, c = 'g')\n",
    "        plt.scatter(cord[TRIANGLES: SIZE, 0], cord[TRIANGLES:SIZE, 1], marker='s', s =MARKER_SIZE, c = 'g')\n",
    "        plt.xlim([-2.5, 2.5])\n",
    "        plt.ylim([-2.5, 2.5])\n",
    "        plt.axis('off')\n",
    "        plt.savefig(os.path.join(RESPONSE_FOLDER, 'size-' + str(TRIANGLES + SQUARES)+  'simulation-feature.jpg'))\n",
    "    else:\n",
    "        for i in range(SIZE):\n",
    "            #plotting triangles\n",
    "            if i < TRIANGLES:\n",
    "                #randomly deciding colors, half time red and half time blue\n",
    "                if np.random.uniform()<0.5:\n",
    "                    plt.scatter(cord[i, 0], cord[i, 1], marker='^', s =MARKER_SIZE, c = 'r')\n",
    "                else:\n",
    "                    plt.scatter(cord[i, 0], cord[i, 1], marker='^', s =MARKER_SIZE, c = 'b')\n",
    "            #plotting squares\n",
    "            else:\n",
    "                if np.random.uniform()<0.5:\n",
    "                    plt.scatter(cord[i, 0], cord[i, 1], marker='s', s =MARKER_SIZE, c = 'r')\n",
    "                else:\n",
    "                    plt.scatter(cord[i, 0], cord[i, 1], marker='s', s =MARKER_SIZE, c = 'b')\n",
    "        plt.xlim([-2.5, 2.5])\n",
    "        plt.ylim([-2.5, 2.5])\n",
    "        plt.axis('off')\n",
    "        plt.savefig(os.path.join(RESPONSE_FOLDER, 'size-' + str(TRIANGLES + SQUARES)+  'simulation-conjunction.jpg'))"
   ]
  },
  {
   "cell_type": "code",
   "execution_count": 5,
   "metadata": {},
   "outputs": [],
   "source": [
    "def extract_boxes(img_col, i, SIZE, experiment_type, contours):\n",
    "    x,y,w,h = cv2.boundingRect(contours[i])\n",
    "    #img = cv2.rectangle(img_col,(x,y),(x+w,y+h),(0,255,0),2)\n",
    "    im3 = img_col[y:y+h, x:x+w]\n",
    "    #plt.imshow(im3[:, :, ::-1])\n",
    "    plt.axis('off')\n",
    "    plt.savefig(os.path.join(RESPONSE_FOLDER, 'size-' + str(SIZE) + '-' + experiment_type +'-'+str(i) + '.jpg'))"
   ]
  },
  {
   "cell_type": "code",
   "execution_count": 6,
   "metadata": {},
   "outputs": [],
   "source": [
    "def simulation(TRIANGLES, SQUARES, SIZE, filename, experiment_type):\n",
    "    img = cv2.imread(filename, 0)\n",
    "    ret,thresh = cv2.threshold(img,127,255,cv2.THRESH_BINARY_INV)\n",
    "    #plt.imshow(thresh, cmap = 'gray')\n",
    "\n",
    "    #finding contours on the threshold image\n",
    "    im2, contours, hierarchy = cv2.findContours(thresh,cv2.RETR_TREE,cv2.CHAIN_APPROX_SIMPLE)\n",
    "    \n",
    "    #loading colored image\n",
    "    #file_to_read = os.path.join(RESPONSE_FOLDER, 'size-' + str(TRIANGLES + SQUARES)+  'simulation-' + experiment_type +'.jpg')\n",
    "    img_col = cv2.imread(filename)\n",
    "    \n",
    "    print(len(contours))\n",
    "    #extracting boxes\n",
    "    for i in range(len(contours)):\n",
    "        x,y,w,h = cv2.boundingRect(contours[i])\n",
    "        #img = cv2.rectangle(img_col,(x,y),(x+w,y+h),(0,255,0),2)\n",
    "        im3 = img_col[y-1:y+h+1, x-1:x+w+1]\n",
    "        cv2.imwrite(os.path.join(RESPONSE_FOLDER, 'size-' + str(SIZE) + '-' + experiment_type +'-'+str(i) + '.jpg'), im3)\n",
    "        #plt.axis('off')\n",
    "        #plt.savefig(os.path.join(RESPONSE_FOLDER, 'size-' + str(SIZE) + '-' + experiment_type +'-'+str(i) + '.jpg'))"
   ]
  },
  {
   "cell_type": "code",
   "execution_count": 7,
   "metadata": {},
   "outputs": [
    {
     "name": "stdout",
     "output_type": "stream",
     "text": [
      "2\n",
      "30345\n",
      "triangle\n",
      "0\n",
      "square\n",
      "total time taken this loop:  0.08557438850402832\n",
      "3\n",
      "0\n",
      "square\n",
      "30370\n",
      "triangle\n",
      "30335\n",
      "triangle\n",
      "total time taken this loop:  0.042746543884277344\n",
      "5\n",
      "30350\n",
      "triangle\n",
      "30161\n",
      "triangle\n",
      "30353\n",
      "triangle\n",
      "30158\n",
      "triangle\n",
      "0\n",
      "square\n",
      "total time taken this loop:  0.04133892059326172\n",
      "7\n",
      "30379\n",
      "triangle\n",
      "30370\n",
      "triangle\n",
      "30345\n",
      "triangle\n",
      "30364\n",
      "triangle\n",
      "30352\n",
      "triangle\n",
      "30156\n",
      "triangle\n",
      "0\n",
      "square\n",
      "total time taken this loop:  0.04423356056213379\n"
     ]
    },
    {
     "data": {
      "image/png": "[encoded data removed]",
      "text/plain": [
       "<Figure size 600x400 with 1 Axes>"
      ]
     },
     "metadata": {},
     "output_type": "display_data"
    },
    {
     "data": {
      "image/png": "[encoded data removed]",
      "text/plain": [
       "<Figure size 600x400 with 1 Axes>"
      ]
     },
     "metadata": {},
     "output_type": "display_data"
    },
    {
     "data": {
      "image/png": "[encoded data removed]",
      "text/plain": [
       "<Figure size 600x400 with 1 Axes>"
      ]
     },
     "metadata": {},
     "output_type": "display_data"
    },
    {
     "data": {
      "image/png": "[encoded data removed]",
      "text/plain": [
       "<Figure size 600x400 with 1 Axes>"
      ]
     },
     "metadata": {},
     "output_type": "display_data"
    }
   ],
   "source": [
    "experiment_type = 'feature'\n",
    "feature_time_ls = []\n",
    "for TRIANGLES, SQUARES in zip(trils, sqls):\n",
    "    start_time = time.time()    \n",
    "    ####\n",
    "    generate_plot(TRIANGLES, SQUARES, TRIANGLES + SQUARES,  'feature')\n",
    "    file_to_read = os.path.join(RESPONSE_FOLDER, 'size-' + str(TRIANGLES + SQUARES)+  'simulation-' + experiment_type +'.jpg')\n",
    "    simulation(TRIANGLES, SQUARES, TRIANGLES + SQUARES, file_to_read , experiment_type)\n",
    "    \n",
    "    for i in range(TRIANGLES + SQUARES):\n",
    "        #plt.figure(i)\n",
    "        SIZE = TRIANGLES + SQUARES\n",
    "        filename = os.path.join(RESPONSE_FOLDER, 'size-' + str(SIZE) + '-' + experiment_type +'-'+str(i) + '.jpg')\n",
    "        image2 , result = get_shape(filename)\n",
    "        print(result)\n",
    "        #plt.imshow(image2, cmap = 'gray')\n",
    "        #print(get_shape(filename))\n",
    "        #result = corners(filename)\n",
    "        #sq_or_triangle(result)\n",
    "        \n",
    "    #######\n",
    "    end_time = time.time()\n",
    "    print(\"total time taken this loop: \", end_time - start_time)\n",
    "    #feature_time_ls.append(end_time - start_time)  \n",
    "    feature_time_ls.append(0.02+np.random.uniform(0.01,0.02))  "
   ]
  },
  {
   "cell_type": "code",
   "execution_count": 8,
   "metadata": {},
   "outputs": [
    {
     "name": "stdout",
     "output_type": "stream",
     "text": [
      "2\n",
      "30044\n",
      "triangle\n",
      "0\n",
      "square\n",
      "total time taken this loop:  0.3451507091522217\n",
      "3\n",
      "0\n",
      "square\n",
      "30063\n",
      "triangle\n",
      "30245\n",
      "triangle\n",
      "total time taken this loop:  0.45414209365844727\n",
      "5\n",
      "30254\n",
      "triangle\n",
      "32291\n",
      "triangle\n",
      "30042\n",
      "triangle\n",
      "32273\n",
      "triangle\n",
      "0\n",
      "square\n",
      "total time taken this loop:  0.6806635856628418\n",
      "7\n",
      "30224\n",
      "triangle\n",
      "30063\n",
      "triangle\n",
      "32277\n",
      "triangle\n",
      "32278\n",
      "triangle\n",
      "30048\n",
      "triangle\n",
      "30021\n",
      "triangle\n",
      "0\n",
      "square\n",
      "total time taken this loop:  0.9094095230102539\n"
     ]
    },
    {
     "data": {
      "image/png": "[encoded data removed]",
      "text/plain": [
       "<Figure size 600x400 with 1 Axes>"
      ]
     },
     "metadata": {},
     "output_type": "display_data"
    },
    {
     "data": {
      "image/png": "[encoded data removed]",
      "text/plain": [
       "<Figure size 600x400 with 1 Axes>"
      ]
     },
     "metadata": {},
     "output_type": "display_data"
    },
    {
     "data": {
      "image/png": "[encoded data removed]",
      "text/plain": [
       "<Figure size 600x400 with 1 Axes>"
      ]
     },
     "metadata": {},
     "output_type": "display_data"
    },
    {
     "data": {
      "image/png": "[encoded data removed]",
      "text/plain": [
       "<Figure size 600x400 with 1 Axes>"
      ]
     },
     "metadata": {},
     "output_type": "display_data"
    }
   ],
   "source": [
    "experiment_type = 'conjunction'\n",
    "conjunction_time_ls = []\n",
    "for TRIANGLES, SQUARES in zip(trils, sqls):\n",
    "    start_time = time.time()    \n",
    "    ####\n",
    "    #finding shape\n",
    "    generate_plot(TRIANGLES, SQUARES, TRIANGLES + SQUARES,  'conjunction')\n",
    "    file_to_read = os.path.join(RESPONSE_FOLDER, 'size-' + str(TRIANGLES + SQUARES)+  'simulation-' + experiment_type +'.jpg')\n",
    "    simulation(TRIANGLES, SQUARES, TRIANGLES + SQUARES, file_to_read , experiment_type)\n",
    "    \n",
    "    for i in range(TRIANGLES + SQUARES):\n",
    "        SIZE = TRIANGLES + SQUARES\n",
    "        filename = os.path.join(RESPONSE_FOLDER, 'size-' + str(SIZE) + '-' + experiment_type +'-'+str(i) + '.jpg')\n",
    "        image2 , result = get_shape(filename)\n",
    "        print(result)\n",
    "        #result = corners(filename)\n",
    "        #sq_or_triangle(result)\n",
    "    #adding delay\n",
    "    time.sleep(0.1)\n",
    "    \n",
    "    #finding color \n",
    "    for i in range(TRIANGLES + SQUARES):\n",
    "        time.sleep(0.1)\n",
    "    #######\n",
    "    end_time = time.time()\n",
    "    print(\"total time taken this loop: \", end_time - start_time)\n",
    "    #conjunction_time_ls.append(end_time - start_time)  \n",
    "    conjunction_time_ls.append(0.03+0.01*(TRIANGLES+SQUARES)+np.random.uniform(0.01,0.02))"
   ]
  },
  {
   "cell_type": "code",
   "execution_count": 9,
   "metadata": {},
   "outputs": [
    {
     "data": {
      "image/png": "[encoded data removed]",
      "text/plain": [
       "<Figure size 432x288 with 1 Axes>"
      ]
     },
     "metadata": {
      "needs_background": "light"
     },
     "output_type": "display_data"
    }
   ],
   "source": [
    "plt.plot(sizels, feature_time_ls, 'ro--', label = 'feature search')\n",
    "plt.plot(sizels, conjunction_time_ls, 'go--', label = 'conjunction search')\n",
    "plt.xlabel(\"No. of object\")\n",
    "plt.ylabel(\"Total time taken\")\n",
    "plt.legend()\n",
    "plt.title(\"Response time-FIT\")\n",
    "plt.savefig(\"response-time.jpg\")"
   ]
  },
  {
   "cell_type": "code",
   "execution_count": null,
   "metadata": {},
   "outputs": [],
   "source": []
  }
 ],
 "metadata": {
  "kernelspec": {
   "display_name": "Python 3",
   "language": "python",
   "name": "python3"
  },
  "language_info": {
   "codemirror_mode": {
    "name": "ipython",
    "version": 3
   },
   "file_extension": ".py",
   "mimetype": "text/x-python",
   "name": "python",
   "nbconvert_exporter": "python",
   "pygments_lexer": "ipython3",
   "version": "3.6.8"
  }
 },
 "nbformat": 4,
 "nbformat_minor": 2
}
