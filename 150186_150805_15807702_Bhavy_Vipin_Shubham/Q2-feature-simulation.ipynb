{
 "cells": [
  {
   "cell_type": "code",
   "execution_count": 1,
   "metadata": {},
   "outputs": [],
   "source": [
    "import matplotlib.pyplot as plt\n",
    "import numpy as np\n",
    "import cv2\n",
    "import cv2 as c"
   ]
  },
  {
   "cell_type": "markdown",
   "metadata": {},
   "source": [
    "## Steps\n",
    "\n",
    "1. Save the simulated figure with no of triangles and squares given. Also if experiment type is feature search then all the shapes should be of same color and if the experiment type is conjunction search then some of them should be red and some should be blue for simplicity take both of them equal.\n",
    "\n",
    "2. After that you should apply some algorithm to extract out all the image frame using some algorithm. Pawan told to use the fact that centroids are known. Let's see what to do.\n",
    "\n",
    "3. This step is simple to apply gabor filter and corner detector on each frame and predict the result."
   ]
  },
  {
   "cell_type": "code",
   "execution_count": 2,
   "metadata": {},
   "outputs": [],
   "source": [
    "#total number of triangles and Squares\n",
    "TRIANGLES = 4\n",
    "SQUARES = 1\n",
    "#total no of objects\n",
    "SIZE = TRIANGLES + SQUARES\n",
    "#Experiment type\n",
    "FEATURE = 'feature'\n",
    "CONJUNCTION = 'conjunction'\n",
    "#Marker size\n",
    "#change only if you want to chnage the marker size\n",
    "MARKER_SIZE = 500\n",
    "SEED = 1"
   ]
  },
  {
   "cell_type": "code",
   "execution_count": 3,
   "metadata": {},
   "outputs": [],
   "source": [
    "#experiment type represent whether to use feature search where only one feature will be present such as shape or\n",
    "#to use conjunction search where both color and shape will be present\n",
    "#if nothing specified \n",
    "def generate_plot(TRIANGLES, SQUARES, experiment_type = 'feature'):\n",
    "    np.random.seed(SEED)\n",
    "    #plot  size\n",
    "    fig=plt.figure(figsize=(7.5, 5), dpi= 80, facecolor='w', edgecolor='k')\n",
    "    \n",
    "    #generating co-ordinates uniformly\n",
    "    a = np.random.uniform(-2, 2, SIZE).reshape(-1, 1)\n",
    "    b = np.random.uniform(-2, 2, SIZE).reshape(-1, 1)\n",
    "    #co-ordinates\n",
    "    cord = np.concatenate((a,b), axis = 1)\n",
    "    \n",
    "    if experiment_type == 'feature':\n",
    "        #marker ^ represents triangle and s represents square\n",
    "        plt.scatter(cord[0:TRIANGLES, 0], cord[0:TRIANGLES, 1], marker='^', s =MARKER_SIZE, c = 'g')\n",
    "        plt.scatter(cord[TRIANGLES: SIZE, 0], cord[TRIANGLES:SIZE, 1], marker='s', s =MARKER_SIZE, c = 'g')\n",
    "        plt.xlim([-2.5, 2.5])\n",
    "        plt.ylim([-2.5, 2.5])\n",
    "        plt.axis('off')\n",
    "        plt.savefig('simulation-feature.jpg')\n",
    "    else:\n",
    "        for i in range(SIZE):\n",
    "            #plotting triangles\n",
    "            if i < TRIANGLES:\n",
    "                #randomly deciding colors, half time red and half time blue\n",
    "                if np.random.uniform()<0.5:\n",
    "                    plt.scatter(cord[i, 0], cord[i, 1], marker='^', s =MARKER_SIZE, c = 'r')\n",
    "                else:\n",
    "                    plt.scatter(cord[i, 0], cord[i, 1], marker='^', s =MARKER_SIZE, c = 'b')\n",
    "            #plotting squares\n",
    "            else:\n",
    "                if np.random.uniform()<0.5:\n",
    "                    plt.scatter(cord[i, 0], cord[i, 1], marker='s', s =MARKER_SIZE, c = 'r')\n",
    "                else:\n",
    "                    plt.scatter(cord[i, 0], cord[i, 1], marker='s', s =MARKER_SIZE, c = 'b')\n",
    "        plt.xlim([-2.5, 2.5])\n",
    "        plt.ylim([-2.5, 2.5])\n",
    "        plt.axis('off')\n",
    "        plt.savefig('simulation-conjunction.jpg')"
   ]
  },
  {
   "cell_type": "code",
   "execution_count": 4,
   "metadata": {},
   "outputs": [
    {
     "data": {
      "image/png": "[encoded data removed]",
      "text/plain": [
       "<Figure size 600x400 with 1 Axes>"
      ]
     },
     "metadata": {},
     "output_type": "display_data"
    }
   ],
   "source": [
    "generate_plot(TRIANGLES, SQUARES, 'feature')"
   ]
  },
  {
   "cell_type": "code",
   "execution_count": 5,
   "metadata": {
    "scrolled": true
   },
   "outputs": [
    {
     "data": {
      "image/png": "[encoded data removed]",
      "text/plain": [
       "<Figure size 600x400 with 1 Axes>"
      ]
     },
     "metadata": {},
     "output_type": "display_data"
    }
   ],
   "source": [
    "generate_plot(TRIANGLES, SQUARES, 'conjunction')"
   ]
  },
  {
   "cell_type": "markdown",
   "metadata": {},
   "source": [
    "## Step-2: Finding contours of the image\n",
    "\n",
    "1. Contours of the image is extracted by first thresholding the image and then finding the contours. Image with contours is also plotted. \n",
    "\n",
    "2. Extract out the bounding boxes, save each frame in separate folder and apply gabor filter and harris corner detector.\n",
    "\n",
    "References of documentation:\n",
    "\n",
    "1. Contours: https://docs.opencv.org/3.0.0/d4/d73/tutorial_py_contours_begin.html\n",
    "2. Thresholding: https://docs.opencv.org/master/d7/d4d/tutorial_py_thresholding.html\n",
    "3. Contours, moments, area of a polygon, centroid, bounding box: https://opencv-python-tutroals.readthedocs.io/en/latest/py_tutorials/py_imgproc/py_contours/py_contour_features/py_contour_features.html"
   ]
  },
  {
   "cell_type": "code",
   "execution_count": 6,
   "metadata": {},
   "outputs": [],
   "source": [
    "def extract_boxes(img_col, i, experiment_type):\n",
    "    x,y,w,h = cv2.boundingRect(contours[i])\n",
    "    #img = cv2.rectangle(img_col,(x,y),(x+w,y+h),(0,255,0),2)\n",
    "    im2 = img_col[y:y+h, x:x+w]\n",
    "    plt.imshow(im2[:, :, ::-1])\n",
    "    plt.axis('off')\n",
    "    plt.savefig('size-' + str(SIZE) + '-' + experiment_type +'-'+str(i) + '.jpg')"
   ]
  },
  {
   "cell_type": "markdown",
   "metadata": {},
   "source": [
    "### Bounding box for feature search"
   ]
  },
  {
   "cell_type": "code",
   "execution_count": 7,
   "metadata": {},
   "outputs": [
    {
     "data": {
      "image/png": "[encoded data removed]",
      "text/plain": [
       "<Figure size 432x288 with 1 Axes>"
      ]
     },
     "metadata": {
      "needs_background": "light"
     },
     "output_type": "display_data"
    }
   ],
   "source": [
    "img = cv2.imread('simulation-feature.jpg', 0)\n",
    "ret,thresh = cv2.threshold(img,127,255,cv2.THRESH_BINARY_INV)\n",
    "plt.imshow(thresh, cmap = 'gray')\n",
    "\n",
    "#finding contours on the threshold image\n",
    "im2, contours, hierarchy = cv2.findContours(thresh,cv2.RETR_TREE,cv2.CHAIN_APPROX_SIMPLE)"
   ]
  },
  {
   "cell_type": "code",
   "execution_count": 8,
   "metadata": {},
   "outputs": [],
   "source": [
    "#loading colored image\n",
    "img_col = cv2.imread('simulation-feature.jpg')"
   ]
  },
  {
   "cell_type": "code",
   "execution_count": 9,
   "metadata": {},
   "outputs": [
    {
     "data": {
      "image/png": "[encoded data removed]",
      "text/plain": [
       "<Figure size 432x288 with 1 Axes>"
      ]
     },
     "metadata": {
      "needs_background": "light"
     },
     "output_type": "display_data"
    }
   ],
   "source": [
    "for i in range(len(contours)):\n",
    "    x,y,w,h = cv2.boundingRect(contours[i])\n",
    "    extract_boxes(img_col, i, CONJUNCTION)\n",
    "    img2 = cv2.rectangle(img_col,(x,y),(x+w,y+h),(0,0,255),2)\n",
    "plt.imshow(img2[:, :,::-1], cmap = 'gray')\n",
    "plt.axis('off')\n",
    "plt.savefig('bounding-box-feature.jpg')"
   ]
  },
  {
   "cell_type": "markdown",
   "metadata": {},
   "source": [
    "### Bounding box for conjunction search"
   ]
  },
  {
   "cell_type": "code",
   "execution_count": 10,
   "metadata": {
    "scrolled": false
   },
   "outputs": [
    {
     "data": {
      "image/png": "[encoded data removed]",
      "text/plain": [
       "<Figure size 432x288 with 1 Axes>"
      ]
     },
     "metadata": {
      "needs_background": "light"
     },
     "output_type": "display_data"
    }
   ],
   "source": [
    "img = cv2.imread('simulation-conjunction.jpg', 0)\n",
    "ret,thresh = cv2.threshold(img,127,255,cv2.THRESH_BINARY_INV)\n",
    "plt.imshow(thresh, cmap = 'gray')\n",
    "\n",
    "#finding contours on the threshold image\n",
    "im2, contours, hierarchy = cv2.findContours(thresh,cv2.RETR_TREE,cv2.CHAIN_APPROX_SIMPLE)"
   ]
  },
  {
   "cell_type": "code",
   "execution_count": 11,
   "metadata": {},
   "outputs": [],
   "source": [
    "def extract_boxes(img_col, i, experiment_type):\n",
    "    x,y,w,h = cv2.boundingRect(contours[i])\n",
    "    #img = cv2.rectangle(img_col,(x,y),(x+w,y+h),(0,255,0),2)\n",
    "    im2 = img_col[y:y+h, x:x+w]\n",
    "    plt.imshow(im2[:, :, ::-1])\n",
    "    plt.axis('off')\n",
    "    plt.savefig('size-' + str(SIZE) + '-' + experiment_type +'-'+str(i) + '.jpg')"
   ]
  },
  {
   "cell_type": "code",
   "execution_count": 12,
   "metadata": {
    "scrolled": true
   },
   "outputs": [
    {
     "data": {
      "image/png": "[encoded data removed]",
      "text/plain": [
       "<Figure size 432x288 with 1 Axes>"
      ]
     },
     "metadata": {
      "needs_background": "light"
     },
     "output_type": "display_data"
    }
   ],
   "source": [
    "img_col = cv2.imread('simulation-conjunction.jpg')\n",
    "\n",
    "for i in range(len(contours)):\n",
    "    x,y,w,h = cv2.boundingRect(contours[i])\n",
    "    extract_boxes(img_col, i, FEATURE)\n",
    "    img2 = cv2.rectangle(img_col,(x,y),(x+w,y+h),(0,255,0),2)\n",
    "plt.imshow(img2[:, :,::-1], cmap = 'gray')\n",
    "plt.axis('off')\n",
    "plt.savefig('bounding-box-conjunction.jpg')"
   ]
  }
 ],
 "metadata": {
  "kernelspec": {
   "display_name": "Python 3",
   "language": "python",
   "name": "python3"
  },
  "language_info": {
   "codemirror_mode": {
    "name": "ipython",
    "version": 3
   },
   "file_extension": ".py",
   "mimetype": "text/x-python",
   "name": "python",
   "nbconvert_exporter": "python",
   "pygments_lexer": "ipython3",
   "version": "3.6.8"
  }
 },
 "nbformat": 4,
 "nbformat_minor": 2
}
